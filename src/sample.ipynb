{
 "cells": [
  {
   "attachments": {},
   "cell_type": "markdown",
   "metadata": {},
   "source": [
    "# Sample title\n",
    "\n",
    "Sample text"
   ]
  },
  {
   "cell_type": "code",
   "execution_count": null,
   "metadata": {},
   "outputs": [],
   "source": [
    "# imports\n",
    "import pandas as pd\n",
    "import numpy as np\n",
    "from plotly import graph_objs as go"
   ]
  },
  {
   "cell_type": "code",
   "execution_count": null,
   "metadata": {},
   "outputs": [],
   "source": [
    "# Generate a random dataset\n",
    "np.random.seed(42)\n",
    "df = pd.DataFrame(np.random.randn(100, 4), columns=list('ABCD'))\n",
    "\n",
    "df.head()"
   ]
  },
  {
   "cell_type": "code",
   "execution_count": null,
   "metadata": {},
   "outputs": [],
   "source": [
    "# Create a figure\n",
    "fig = go.Figure()\n",
    "\n",
    "# Add traces\n",
    "fig.add_trace(go.Scatter(y=df['A'], mode='lines', name='A'))\n",
    "fig.add_trace(go.Scatter(y=df['B'], mode='lines', name='B'))\n",
    "fig.add_trace(go.Scatter(y=df['C'], mode='lines', name='C'))\n",
    "fig.add_trace(go.Scatter(y=df['D'], mode='lines', name='D'))\n",
    "\n",
    "# Update xaxis properties\n",
    "fig.update_xaxes(title_text='Time')\n",
    "\n",
    "# Update yaxis properties\n",
    "fig.update_yaxes(title_text='Value')\n",
    "\n",
    "# Update layout properties\n",
    "fig.update_layout(title='Random Data',\n",
    "                  width=800,\n",
    "                  height=500)\n",
    "\n",
    "# Show the figure\n",
    "fig.show()"
   ]
  }
 ],
 "metadata": {
  "kernelspec": {
   "display_name": "Python 3",
   "language": "python",
   "name": "python3"
  },
  "language_info": {
   "codemirror_mode": {
    "name": "ipython",
    "version": 3
   },
   "file_extension": ".py",
   "mimetype": "text/x-python",
   "name": "python",
   "nbconvert_exporter": "python",
   "pygments_lexer": "ipython3",
   "version": "3.12.3"
  }
 },
 "nbformat": 4,
 "nbformat_minor": 2
}
